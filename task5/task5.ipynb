{
 "cells": [
  {
   "cell_type": "code",
   "execution_count": 1,
   "id": "706fc9b9",
   "metadata": {},
   "outputs": [],
   "source": [
    "from io import StringIO\n",
    "import numpy as np\n",
    "import json"
   ]
  },
  {
   "cell_type": "code",
   "execution_count": 2,
   "id": "4c931cfa",
   "metadata": {},
   "outputs": [],
   "source": [
    "SEQ_LEN = 10"
   ]
  },
  {
   "cell_type": "code",
   "execution_count": 3,
   "id": "0a71e020",
   "metadata": {},
   "outputs": [],
   "source": [
    "def createRow(visited: set, cur: int) -> np.array:\n",
    "    row = []\n",
    "    for i in range(SEQ_LEN):\n",
    "        row.append(1 if i+1 in visited else 0)\n",
    "    return np.array(row)\n",
    "\n",
    "def createMatrix(data: list) -> np.array:\n",
    "    visited = set()\n",
    "    matrix = list()\n",
    "\n",
    "    for elem in data:\n",
    "        if type(elem) == str:\n",
    "            visited.add(int(elem))\n",
    "            row = createRow(visited=visited, cur=int(elem))\n",
    "            matrix.append({'num': int(elem), 'row': row})\n",
    "        else:\n",
    "            for subelem in elem:\n",
    "                visited.add(int(subelem))\n",
    "            for subelem in elem:\n",
    "                row = createRow(visited=visited, cur=int(subelem))\n",
    "                matrix.append({'num': int(subelem), 'row': row})\n",
    "\n",
    "    matrix.sort(key=(lambda x: x['num']))\n",
    "    raw = [elem['row'] for elem in matrix]\n",
    "\n",
    "    return np.array(raw)"
   ]
  },
  {
   "cell_type": "code",
   "execution_count": 4,
   "id": "4dfab18e",
   "metadata": {},
   "outputs": [],
   "source": [
    "def findErr(json_path: str) -> list:\n",
    "    data = json.loads(open(json_path).read())\n",
    "\n",
    "    matrix1 = createMatrix(data['input1'])\n",
    "    matrix2 = createMatrix(data['input2'])\n",
    "\n",
    "    matrix12 = matrix1 * matrix2\n",
    "    matrix12T = matrix1.T * matrix2.T\n",
    "\n",
    "    criterion = np.logical_or(matrix12, matrix12T)\n",
    "\n",
    "    answer = []\n",
    "    for i in range(criterion.shape[0]):\n",
    "        for j in range(i):\n",
    "            if not criterion[i][j]:\n",
    "                answer.append([j+1, i+1])\n",
    "    \n",
    "    flag = True\n",
    "    for row in data['output']:\n",
    "        flag *= ([int(row[0]), int(row[1])] in answer )\n",
    "        if not flag:\n",
    "            print(f\"Ошибочка {row}\")\n",
    "    if flag:\n",
    "        print(\"Всё прошло успешно!\")\n",
    "\n",
    "    return answer"
   ]
  },
  {
   "cell_type": "code",
   "execution_count": 5,
   "id": "a2c1364d",
   "metadata": {},
   "outputs": [
    {
     "name": "stdout",
     "output_type": "stream",
     "text": [
      "Всё прошло успешно!\n"
     ]
    },
    {
     "data": {
      "text/plain": [
       "[[8, 9]]"
      ]
     },
     "execution_count": 5,
     "metadata": {},
     "output_type": "execute_result"
    }
   ],
   "source": [
    "findErr(\"example.json\")"
   ]
  },
  {
   "cell_type": "code",
   "execution_count": 6,
   "id": "48549403",
   "metadata": {},
   "outputs": [],
   "source": [
    "def task(str1, str2) -> list:\n",
    "    str1 = eval(str1)\n",
    "    str2 = eval(str2)    \n",
    "    \n",
    "    matrix1 = createMatrix(str1)\n",
    "    matrix2 = createMatrix(str2)\n",
    "\n",
    "    matrix12 = matrix1 * matrix2\n",
    "    matrix12T = matrix1.T * matrix2.T\n",
    "\n",
    "    criterion = np.logical_or(matrix12, matrix12T)\n",
    "\n",
    "    answer = []\n",
    "    for i in range(criterion.shape[0]):\n",
    "        for j in range(i):\n",
    "            if not criterion[i][j]:\n",
    "                answer.append([str(j+1), str(i+1)])\n",
    "                \n",
    "    return answer"
   ]
  },
  {
   "cell_type": "code",
   "execution_count": 7,
   "id": "f070b20e",
   "metadata": {},
   "outputs": [
    {
     "name": "stdout",
     "output_type": "stream",
     "text": [
      "[['8', '9']]\n",
      "True\n"
     ]
    }
   ],
   "source": [
    "str1 = '[\"1\", [\"2\",\"3\"],\"4\", [\"5\", \"6\", \"7\"], \"8\", \"9\", \"10\"]'\n",
    "str2 = '[[\"1\",\"2\"], [\"3\",\"4\",\"5\"], \"6\", \"7\", \"9\", [\"8\",\"10\"]]'\n",
    "res = [[\"8\", \"9\"]]\n",
    "r = task(str1, str2)\n",
    "\n",
    "print(r)\n",
    "\n",
    "if isinstance(r, list):\n",
    "    print(r == res)\n",
    "elif isinstance(r, str):\n",
    "    print(json.loads(r) == res)\n",
    "else:\n",
    "    False"
   ]
  }
 ],
 "metadata": {
  "kernelspec": {
   "display_name": "Python 3.9.12 ('base')",
   "language": "python",
   "name": "python3"
  },
  "language_info": {
   "codemirror_mode": {
    "name": "ipython",
    "version": 3
   },
   "file_extension": ".py",
   "mimetype": "text/x-python",
   "name": "python",
   "nbconvert_exporter": "python",
   "pygments_lexer": "ipython3",
   "version": "3.9.12"
  },
  "vscode": {
   "interpreter": {
    "hash": "a657d8e1ce4748c7113b692692c67b92dffeb02e7a8f9685f8313688e442efd0"
   }
  }
 },
 "nbformat": 4,
 "nbformat_minor": 5
}
